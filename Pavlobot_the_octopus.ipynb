{
 "cells": [
  {
   "cell_type": "markdown",
   "metadata": {},
   "source": [
    "# Pavlobot The Octopus\n",
    "\n",
    "### Load data"
   ]
  },
  {
   "cell_type": "code",
   "execution_count": 1,
   "metadata": {
    "collapsed": true
   },
   "outputs": [],
   "source": [
    "import pandas as pd\n",
    "\n",
    "dataset = pd.read_csv('data/fifa_worldcup_2.csv', sep=\",\")\n"
   ]
  },
  {
   "cell_type": "markdown",
   "metadata": {},
   "source": [
    "### Prepare dataset"
   ]
  },
  {
   "cell_type": "code",
   "execution_count": 2,
   "metadata": {
    "collapsed": true
   },
   "outputs": [],
   "source": [
    "x = dataset.loc[:,['Year', 'Teams', 'Host_Continent', 'Argentina', 'Brazil', 'Czechoslovakia', 'England', 'France', 'Germany', 'Hungary', 'Italy', 'Netherlands', 'Spain', 'Sweden', 'Uruguay', 'Other']]\n",
    "\n",
    "x_train = x.loc[:17]\n",
    "x_test = x.loc[17:19]\n",
    "\n",
    "y_train = dataset.loc[:17, ['Winner']]\n",
    "y_test = dataset.loc[17:19, ['Winner']]\n",
    "\n",
    "import category_encoders as ce\n",
    "enc3 =  ce.OneHotEncoder(return_df=False,impute_missing=False, handle_unknown=\"ignore\")\n",
    "\n",
    "enc3.fit_transform(x)\n",
    "\n",
    "x_train_ = enc3.transform(x_train)\n",
    "x_test_ = enc3.transform(x_test)\n"
   ]
  },
  {
   "cell_type": "markdown",
   "metadata": {},
   "source": [
    "### Train model"
   ]
  },
  {
   "cell_type": "code",
   "execution_count": 3,
   "metadata": {},
   "outputs": [
    {
     "name": "stderr",
     "output_type": "stream",
     "text": [
      "/home/milhouse/tools/virtualenvs/pavlov_the_octopus/lib/python3.5/site-packages/sklearn/utils/validation.py:578: DataConversionWarning: A column-vector y was passed when a 1d array was expected. Please change the shape of y to (n_samples, ), for example using ravel().\n",
      "  y = column_or_1d(y, warn=True)\n"
     ]
    },
    {
     "data": {
      "text/plain": [
       "LogisticRegression(C=1.0, class_weight=None, dual=False, fit_intercept=True,\n",
       "          intercept_scaling=1, max_iter=100, multi_class='ovr', n_jobs=1,\n",
       "          penalty='l2', random_state=None, solver='liblinear', tol=0.0001,\n",
       "          verbose=0, warm_start=False)"
      ]
     },
     "execution_count": 3,
     "metadata": {},
     "output_type": "execute_result"
    }
   ],
   "source": [
    "from sklearn import tree,linear_model\n",
    "clf = linear_model.LogisticRegression()\n",
    "clf.fit(x_train_,y_train)"
   ]
  },
  {
   "cell_type": "markdown",
   "metadata": {},
   "source": [
    "### Predict"
   ]
  },
  {
   "cell_type": "code",
   "execution_count": 4,
   "metadata": {},
   "outputs": [
    {
     "name": "stdout",
     "output_type": "stream",
     "text": [
      "[[   0    1    0 2006   32    0    4    0    0    0    3    0    0    0\n",
      "     0    0    0    2]\n",
      " [   0    0    1 2010   32    0    0    0    0    3    2    0    4    0\n",
      "     0    0    0    1]\n",
      " [   1    0    0 2014   32    0    0    0    0    0    2    0    0    3\n",
      "     4    0    1    0]]\n",
      "Predicted winners ['Italy' 'Brazil' 'Italy']\n",
      "[[4.56608690e-02 2.60074061e-01 7.72274297e-03 1.02921384e-01\n",
      "  9.03454436e-02 4.93275489e-01 1.10655093e-08]\n",
      " [2.74413337e-01 3.96641299e-01 1.17165818e-04 1.43095945e-01\n",
      "  2.92149531e-02 1.56517242e-01 5.81483941e-08]\n",
      " [1.98852985e-01 1.77258406e-01 1.88530291e-04 4.04890447e-02\n",
      "  1.43919435e-02 5.68819041e-01 4.95776861e-08]]\n"
     ]
    }
   ],
   "source": [
    "### Predict on test set\n",
    "print(x_test_)\n",
    "pred = clf.predict(x_test_)\n",
    "\n",
    "## Argentina, Brazil, England, France, Germany, Italy, Uruguay\n",
    "print(\"Predicted winners {}\".format(pred))\n",
    "prob = clf.predict_proba(x_test_)\n",
    "print(prob)\n"
   ]
  },
  {
   "cell_type": "code",
   "execution_count": 5,
   "metadata": {},
   "outputs": [
    {
     "name": "stdout",
     "output_type": "stream",
     "text": [
      "Predicted winner ['Italy']\n",
      "[[5.06437260e-02 1.92475316e-01 2.48060803e-04 2.41132075e-02\n",
      "  1.23718776e-01 6.08800903e-01 1.08993014e-08]]\n"
     ]
    }
   ],
   "source": [
    "### Predict positions 1,2,3,4 for 2018\n",
    "### Predict positions 8, 12, 16, 32\n",
    "x_2018 = x.loc[20:]\n",
    "x_2018\n",
    "x_2018_ = enc3.transform(x_2018)\n",
    "pred = clf.predict(x_2018_)\n",
    "\n",
    "print(\"Predicted winner {}\".format(pred))\n",
    "prob = clf.predict_proba(x_2018_)\n",
    "print(prob)\n",
    "# Sorted as Italy, Brazil, Germany, Argentina, France, Uruguay. Removing Italy: Brazil, Germany, Argentina, France."
   ]
  }
 ],
 "metadata": {
  "kernelspec": {
   "display_name": "pavlov_the_octopus",
   "language": "python",
   "name": "pavlov_the_octopus"
  },
  "language_info": {
   "codemirror_mode": {
    "name": "ipython",
    "version": 3
   },
   "file_extension": ".py",
   "mimetype": "text/x-python",
   "name": "python",
   "nbconvert_exporter": "python",
   "pygments_lexer": "ipython3",
   "version": "3.5.2"
  }
 },
 "nbformat": 4,
 "nbformat_minor": 2
}
